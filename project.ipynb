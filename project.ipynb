{
 "cells": [
  {
   "cell_type": "markdown",
   "id": "45fbf2f7",
   "metadata": {},
   "source": [
    "pip install faker\n"
   ]
  },
  {
   "cell_type": "code",
   "execution_count": 1,
   "id": "27c47486",
   "metadata": {},
   "outputs": [
    {
     "name": "stdout",
     "output_type": "stream",
     "text": [
      "Requirement already satisfied: mysql-connector-python in c:\\users\\s.harshini\\anaconda3\\lib\\site-packages (9.3.0)\n",
      "Note: you may need to restart the kernel to use updated packages.\n"
     ]
    }
   ],
   "source": [
    "pip install mysql-connector-python\n"
   ]
  },
  {
   "cell_type": "code",
   "execution_count": 5,
   "id": "c66af454",
   "metadata": {},
   "outputs": [
    {
     "name": "stdout",
     "output_type": "stream",
     "text": [
      "Data inserted successfully.\n"
     ]
    }
   ],
   "source": [
    "from faker import Faker\n",
    "import mysql.connector\n",
    "import random\n",
    "\n",
    "# Initialize Faker\n",
    "fake = Faker()\n",
    "num_students = 100\n",
    "\n",
    "# MySQL connection\n",
    "conn = mysql.connector.connect(\n",
    "    host=\"localhost\",\n",
    "    user=\"root\",\n",
    "    password=\"Harshu@08\",\n",
    "    database=\"placement_db\"\n",
    ")\n",
    "cursor = conn.cursor()\n",
    "\n",
    "# Insert data using OOP\n",
    "class PlacementDatabase:\n",
    "    def __init__(self, cursor, conn):\n",
    "        self.cursor = cursor\n",
    "        self.conn = conn\n",
    "\n",
    "    def insert_data(self):\n",
    "        for i in range(1, num_students + 1):\n",
    "            name = fake.name()\n",
    "            age = random.randint(18, 25)\n",
    "            email = fake.email()\n",
    "            phone = fake.phone_number()\n",
    "            enrollment_year = random.randint(2019, 2023)\n",
    "            batch = random.choice(['A', 'B', 'C'])\n",
    "\n",
    "            # Insert into Students\n",
    "            self.cursor.execute(\"\"\"\n",
    "                INSERT INTO Students (student_id, name, age, email, phone, enrollment_year, batch)\n",
    "                VALUES (%s, %s, %s, %s, %s, %s, %s)\n",
    "            \"\"\", (i, name, age, email, phone, enrollment_year, batch))\n",
    "\n",
    "            # Insert into Programming\n",
    "            self.cursor.execute(\"\"\"\n",
    "                INSERT INTO Programming (student_id, problems_solved, assessments_completed, projects_submitted)\n",
    "                VALUES (%s, %s, %s, %s)\n",
    "            \"\"\", (i, random.randint(10, 100), random.randint(1, 10), random.randint(0, 5)))\n",
    "\n",
    "            # Insert into SoftSkills\n",
    "            self.cursor.execute(\"\"\"\n",
    "                INSERT INTO SoftSkills (student_id, communication, teamwork, presentation)\n",
    "                VALUES (%s, %s, %s, %s)\n",
    "            \"\"\", (i, random.randint(50, 100), random.randint(50, 100), random.randint(50, 100)))\n",
    "\n",
    "            # Insert into Placements\n",
    "            self.cursor.execute(\"\"\"\n",
    "                INSERT INTO Placements (student_id, placement_ready, mock_interview_score, internship_experience)\n",
    "                VALUES (%s, %s, %s, %s)\n",
    "            \"\"\", (i, random.choice(['Yes', 'No']), random.randint(0, 100), random.choice(['Yes', 'No'])))\n",
    "\n",
    "        self.conn.commit()\n",
    "        print(\"Data inserted successfully.\")\n",
    "\n",
    "# Create object and insert\n",
    "db = PlacementDatabase(cursor, conn)\n",
    "db.insert_data()\n",
    "\n",
    "# Close connection\n",
    "cursor.close()\n",
    "conn.close()\n",
    "\n"
   ]
  },
  {
   "cell_type": "code",
   "execution_count": null,
   "id": "f5d32997",
   "metadata": {},
   "outputs": [],
   "source": []
  }
 ],
 "metadata": {
  "kernelspec": {
   "display_name": "base",
   "language": "python",
   "name": "python3"
  },
  "language_info": {
   "codemirror_mode": {
    "name": "ipython",
    "version": 3
   },
   "file_extension": ".py",
   "mimetype": "text/x-python",
   "name": "python",
   "nbconvert_exporter": "python",
   "pygments_lexer": "ipython3",
   "version": "3.13.5"
  }
 },
 "nbformat": 4,
 "nbformat_minor": 5
}
